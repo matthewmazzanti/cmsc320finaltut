{
 "cells": [
  {
   "cell_type": "code",
   "execution_count": 5,
   "metadata": {},
   "outputs": [],
   "source": [
    "from jinja2 import Template"
   ]
  },
  {
   "cell_type": "code",
   "execution_count": 74,
   "metadata": {
    "scrolled": true
   },
   "outputs": [
    {
     "data": {
      "text/html": [
       "\n",
       "<style id=\"lyricstyle\">\n",
       ".lyrics .hello {\n",
       "    color:yellow;\n",
       "}\n",
       ".lyrics .asdf {\n",
       "    background:green;\n",
       "}\n",
       "</style>\n",
       "<div class=\"lyrics\">\n",
       "    <span class=\"hello asdf\">hello ASDF</span>\n",
       "    <span class=\"hello\">hello ASDF</span>\n",
       "    <span class=\"asdf\">hello ASDF</span>\n",
       "</div>\n",
       "<script>\n",
       "var sheet = document.getElementById(\"lyricstyle\").sheet;\n",
       "sheet.cssRules[0].style.setProperty (\"background\", \"blue\", \"important\");\n",
       "</script>"
      ],
      "text/plain": [
       "<IPython.core.display.HTML object>"
      ]
     },
     "metadata": {},
     "output_type": "display_data"
    }
   ],
   "source": [
    "template = Template('''\n",
    "<style id=\"lyricstyle\">\n",
    ".lyrics .hello {\n",
    "    color:yellow;\n",
    "}\n",
    ".lyrics .asdf {\n",
    "    background:green;\n",
    "}\n",
    "</style>\n",
    "<div class=\"lyrics\">\n",
    "    <span class=\"hello asdf\">hello {{name}}</span>\n",
    "    <span class=\"hello\">hello {{name}}</span>\n",
    "    <span class=\"asdf\">hello {{name}}</span>\n",
    "</div>\n",
    "<script>\n",
    "var sheet = document.getElementById(\"lyricstyle\").sheet;\n",
    "sheet.cssRules[0].style.setProperty (\"background\", \"blue\", \"important\");\n",
    "</script>\n",
    "''')\n",
    "display(HTML(template.render(name=\"ASDF\")))"
   ]
  },
  {
   "cell_type": "code",
   "execution_count": null,
   "metadata": {
    "collapsed": true
   },
   "outputs": [],
   "source": []
  },
  {
   "cell_type": "code",
   "execution_count": null,
   "metadata": {
    "collapsed": true
   },
   "outputs": [],
   "source": []
  }
 ],
 "metadata": {
  "kernelspec": {
   "display_name": "Python 3",
   "language": "python",
   "name": "python3"
  },
  "language_info": {
   "codemirror_mode": {
    "name": "ipython",
    "version": 3
   },
   "file_extension": ".py",
   "mimetype": "text/x-python",
   "name": "python",
   "nbconvert_exporter": "python",
   "pygments_lexer": "ipython3",
   "version": "3.6.3"
  }
 },
 "nbformat": 4,
 "nbformat_minor": 2
}
